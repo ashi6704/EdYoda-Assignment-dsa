{
 "cells": [
  {
   "cell_type": "markdown",
   "id": "cf9fb2e4",
   "metadata": {},
   "source": [
    "# DSA - ASSIGNMENT 1\n",
    "\n",
    "## Linear Data Structures\n"
   ]
  },
  {
   "cell_type": "markdown",
   "id": "96059361",
   "metadata": {},
   "source": [
    "### Q1. Write a program to find all pairs of an integer array whose sum is equal to a given number?"
   ]
  },
  {
   "cell_type": "code",
   "execution_count": 7,
   "id": "6248cffa",
   "metadata": {},
   "outputs": [
    {
     "name": "stdout",
     "output_type": "stream",
     "text": [
      "(1, 7)\n",
      "(3, 5)\n",
      "(6, 2)\n"
     ]
    }
   ],
   "source": [
    "def printPairs(arr, n, sum):\n",
    " \n",
    "    for i in range(0, n ):\n",
    "        for j in range(i + 1, n ):\n",
    "            if (arr[i] + arr[j] == sum):\n",
    "                print(\"(\", arr[i],\n",
    "                      \", \", arr[j],\n",
    "                      \")\", sep = \"\")\n",
    " \n",
    " \n",
    "arr = [1, 3, 5, 6, 2,7]\n",
    "n = len(arr)\n",
    "sum = 8\n",
    "printPairs(arr, n, sum)"
   ]
  },
  {
   "cell_type": "markdown",
   "id": "457b96b6",
   "metadata": {},
   "source": [
    "### Q2. Write a program to reverse an array in place? In place means you cannot create a new array. You have to update the original array."
   ]
  },
  {
   "cell_type": "code",
   "execution_count": 38,
   "id": "1f6955d4",
   "metadata": {},
   "outputs": [
    {
     "name": "stdout",
     "output_type": "stream",
     "text": [
      "[1, 2, 3, 4, 5, 6]\n",
      "Reversed list is\n",
      "[6, 5, 4, 3, 2, 1]\n"
     ]
    }
   ],
   "source": [
    "def reverseList(A, start, end):\n",
    "    while start < end:\n",
    "        A[start], A[end] = A[end], A[start]\n",
    "        start += 1\n",
    "        end -= 1\n",
    " \n",
    "\n",
    "A = [1, 2, 3, 4, 5, 6]\n",
    "print(A)\n",
    "reverseList(A, 0, 5)\n",
    "print(\"Reversed list is\")\n",
    "print(A)"
   ]
  },
  {
   "cell_type": "markdown",
   "id": "bec5c060",
   "metadata": {},
   "source": [
    "### Q3. Write a program to check if two strings are a rotation of each other? "
   ]
  },
  {
   "cell_type": "code",
   "execution_count": 50,
   "id": "1cb106eb",
   "metadata": {},
   "outputs": [
    {
     "name": "stdout",
     "output_type": "stream",
     "text": [
      "Second string is a rotation of first string\n"
     ]
    }
   ],
   "source": [
    "str1 = \"abcde\";  \n",
    "str2 = \"deabc\";  \n",
    "   \n",
    "if(len(str1) != len(str2)):  \n",
    "    print(\"Second string is not a rotation of first string\");  \n",
    "else:  \n",
    "    try:  \n",
    "         \n",
    "        str1 = str1 + str1;  \n",
    "          \n",
    " \n",
    "        if(str1.index(str2)):  \n",
    "            print(\"Second string is a rotation of first string\");  \n",
    "    except ValueError:  \n",
    "            print(\"Second string is not a rotation of first string\"); "
   ]
  },
  {
   "cell_type": "code",
   "execution_count": 51,
   "id": "cdcdd9df",
   "metadata": {},
   "outputs": [
    {
     "name": "stdout",
     "output_type": "stream",
     "text": [
      "Left Rotation :  yodaEd\n",
      "Right Rotation :  daEdyo\n"
     ]
    }
   ],
   "source": [
    "def rotate(input,d):\n",
    " \n",
    "    Lfirst = input[0 : d]\n",
    "    Lsecond = input[d :]\n",
    "    Rfirst = input[0 : len(input)-d]\n",
    "    Rsecond = input[len(input)-d : ]\n",
    " \n",
    "    \n",
    "    print (\"Left Rotation : \", (Lsecond + Lfirst) )\n",
    "    print (\"Right Rotation : \", (Rsecond + Rfirst))\n",
    " \n",
    "\n",
    "if __name__ == \"__main__\":\n",
    "    input = 'Edyoda'\n",
    "    d=2\n",
    "    rotate(input,d)"
   ]
  },
  {
   "cell_type": "markdown",
   "id": "8019c8d5",
   "metadata": {},
   "source": [
    "### Q4. Write a program to print the first non-repeated character from a string?"
   ]
  },
  {
   "cell_type": "code",
   "execution_count": 5,
   "id": "45a96d68",
   "metadata": {},
   "outputs": [
    {
     "name": "stdout",
     "output_type": "stream",
     "text": [
      "First non-repeating character is y\n"
     ]
    }
   ],
   "source": [
    "NO_OF_CHARS = 256\n",
    "def getCharCountArray(string):\n",
    "    count = [0] * NO_OF_CHARS\n",
    "    for i in string:\n",
    "        count[ord(i)]+= 1\n",
    "    return count\n",
    " \n",
    "def firstNonRepeating(string):\n",
    "    count = getCharCountArray(string)\n",
    "    index = -1\n",
    "    k = 0\n",
    " \n",
    "    for i in string:\n",
    "        if count[ord(i)] == 1:\n",
    "            index = k\n",
    "            break\n",
    "        k += 1\n",
    " \n",
    "    return index\n",
    " \n",
    "string = \"edyoda data scientist program\"\n",
    "index = firstNonRepeating(string)\n",
    "if index == 1:\n",
    "    print (\"Either all characters are repeating or string is empty\")\n",
    "else:\n",
    "    print (\"First non-repeating character is\" , string[index])"
   ]
  },
  {
   "cell_type": "markdown",
   "id": "30517cf1",
   "metadata": {},
   "source": [
    "### Q5. Read about the Tower of Hanoi algorithm. Write a program to implement it."
   ]
  },
  {
   "cell_type": "code",
   "execution_count": 6,
   "id": "ca48311f",
   "metadata": {},
   "outputs": [
    {
     "name": "stdout",
     "output_type": "stream",
     "text": [
      "Move disk 1 from rod A to rod C\n",
      "Move disk 2 from rod A to rod B\n",
      "Move disk 1 from rod C to rod B\n",
      "Move disk 3 from rod A to rod C\n",
      "Move disk 1 from rod B to rod A\n",
      "Move disk 2 from rod B to rod C\n",
      "Move disk 1 from rod A to rod C\n"
     ]
    }
   ],
   "source": [
    "def TowerOfHanoi(n, from_rod, to_rod, aux_rod):\n",
    "    if n == 0:\n",
    "        return\n",
    "    TowerOfHanoi(n-1, from_rod, aux_rod, to_rod)\n",
    "    print(\"Move disk\", n, \"from rod\", from_rod, \"to rod\", to_rod)\n",
    "    TowerOfHanoi(n-1, aux_rod, to_rod, from_rod)\n",
    " \n",
    "\n",
    "N = 3\n",
    " \n",
    "    \n",
    "TowerOfHanoi(N, 'A', 'C', 'B')"
   ]
  },
  {
   "cell_type": "markdown",
   "id": "58ce9965",
   "metadata": {},
   "source": [
    "### Q6. Read about infix, prefix, and postfix expressions. Write a program to convert postfix to prefix expression."
   ]
  },
  {
   "cell_type": "code",
   "execution_count": 14,
   "id": "f640c3a3",
   "metadata": {},
   "outputs": [
    {
     "name": "stdout",
     "output_type": "stream",
     "text": [
      "Prefix :  +AB-CD\n"
     ]
    }
   ],
   "source": [
    "\n",
    "def isOperator(x):\n",
    " \n",
    "    if x == \"+\":\n",
    "        return True\n",
    " \n",
    "    if x == \"-\":\n",
    "        return True\n",
    " \n",
    "    if x == \"/\":\n",
    "        return True\n",
    " \n",
    "    if x == \"*\":\n",
    "        return True\n",
    " \n",
    "    return False\n",
    " \n",
    " \n",
    "def postToPre(post_exp):\n",
    " \n",
    "    s = []\n",
    " \n",
    "    length = len(post_exp)\n",
    " \n",
    "    for i in range(length):\n",
    " \n",
    "        if (isOperator(post_exp[i])):\n",
    "\n",
    "            op1 = s[-1]\n",
    "            s.pop()\n",
    "            op2 = s[-1]\n",
    "            s.pop()\n",
    " \n",
    "            temp = post_exp[i] + op2 + op1\n",
    " \n",
    "            s.append(temp)\n",
    " \n",
    "        else:\n",
    " \n",
    "            s.append(post_exp[i])\n",
    " \n",
    "    \n",
    "    ans = \"\"\n",
    "    for i in s:\n",
    "        ans += i\n",
    "    return ans\n",
    " \n",
    " \n",
    "\n",
    "if __name__ == \"__main__\":\n",
    " \n",
    "    post_exp = \"AB+CD-\"\n",
    "     \n",
    "    # Function call\n",
    "    print(\"Prefix : \", postToPre(post_exp))"
   ]
  },
  {
   "cell_type": "markdown",
   "id": "af600092",
   "metadata": {},
   "source": [
    "### Q7. Write a program to convert prefix expression to infix expression."
   ]
  },
  {
   "cell_type": "code",
   "execution_count": 17,
   "id": "fe498c69",
   "metadata": {},
   "outputs": [
    {
     "name": "stdout",
     "output_type": "stream",
     "text": [
      "((A-(B/C))*((A/D)-E))\n"
     ]
    }
   ],
   "source": [
    "def prefixToInfix(prefix):\n",
    "    stack = []\n",
    "     \n",
    "    i = len(prefix) - 1\n",
    "    while i >= 0:\n",
    "        if not isOperator(prefix[i]):\n",
    "         \n",
    "            stack.append(prefix[i])\n",
    "            i -= 1\n",
    "        else:\n",
    "           \n",
    "            str = \"(\" + stack.pop() + prefix[i] + stack.pop() + \")\"\n",
    "            stack.append(str)\n",
    "            i -= 1\n",
    "     \n",
    "    return stack.pop()\n",
    " \n",
    "def isOperator(c):\n",
    "    if c == \"*\" or c == \"+\" or c == \"-\" or c == \"/\" or c == \"^\" or c == \"(\" or c == \")\":\n",
    "        return True\n",
    "    else:\n",
    "        return False\n",
    " \n",
    "if __name__==\"__main__\":\n",
    "    str = \"*-A/BC-/ADE\"\n",
    "    print(prefixToInfix(str))"
   ]
  },
  {
   "cell_type": "markdown",
   "id": "15023ccd",
   "metadata": {},
   "source": [
    "### Q8. Write a program to check if all the brackets are closed in a given code snippet."
   ]
  },
  {
   "cell_type": "code",
   "execution_count": 18,
   "id": "e12d6143",
   "metadata": {},
   "outputs": [
    {
     "name": "stdout",
     "output_type": "stream",
     "text": [
      "Given string is balanced : True\n"
     ]
    }
   ],
   "source": [
    "def isbalanced(s):\n",
    "  c= 0\n",
    "  ans=False\n",
    "  for i in s:\n",
    "    if i == \"(\": \n",
    "     c += 1\n",
    "    elif i == \")\":\n",
    "     c-= 1\n",
    "    if c < 0:\n",
    "     return ans\n",
    "    if c==0:\n",
    "     return not ans\n",
    "  return ans\n",
    "s=\"{[]}\"\n",
    "print(\"Given string is balanced :\",isbalanced(s))"
   ]
  },
  {
   "cell_type": "code",
   "execution_count": 20,
   "id": "334f184a",
   "metadata": {},
   "outputs": [
    {
     "name": "stdout",
     "output_type": "stream",
     "text": [
      "Given string is balanced : False\n"
     ]
    }
   ],
   "source": [
    "def isbalanced(s):\n",
    "  c= 0\n",
    "  ans=False\n",
    "  for i in s:\n",
    "    if i == \"(\": \n",
    "     c += 1\n",
    "    elif i == \")\":\n",
    "     c-= 1\n",
    "    if c < 0:\n",
    "     return ans\n",
    "    if c==0:\n",
    "     return not ans\n",
    "  return ans\n",
    "s=\"({[]}\"\n",
    "print(\"Given string is balanced :\",isbalanced(s))"
   ]
  },
  {
   "cell_type": "markdown",
   "id": "d4502d42",
   "metadata": {},
   "source": [
    "### Q9. Write a program to reverse a stack. "
   ]
  },
  {
   "cell_type": "code",
   "execution_count": 27,
   "id": "32278521",
   "metadata": {},
   "outputs": [
    {
     "name": "stdout",
     "output_type": "stream",
     "text": [
      "Please enter the elements to push: 5 4 3 2 1\n",
      "The stack:\n",
      "1\n",
      "2\n",
      "3\n",
      "4\n",
      "5\n",
      "After reversing:\n",
      "5\n",
      "4\n",
      "3\n",
      "2\n",
      "1\n"
     ]
    }
   ],
   "source": [
    "class Stack:\n",
    "    def __init__(self):\n",
    "        self.items = []\n",
    " \n",
    "    def is_empty(self):\n",
    "        return self.items == []\n",
    " \n",
    "    def push(self, data):\n",
    "        self.items.append(data)\n",
    " \n",
    "    def pop(self):\n",
    "        return self.items.pop()\n",
    " \n",
    "    def display(self):\n",
    "        for data in reversed(self.items):\n",
    "            print(data)\n",
    " \n",
    "def insert_at_bottom(s, data):\n",
    "    if s.is_empty():\n",
    "        s.push(data)\n",
    "    else:\n",
    "        popped = s.pop()\n",
    "        insert_at_bottom(s, data)\n",
    "        s.push(popped)\n",
    " \n",
    " \n",
    "def reverse_stack(s):\n",
    "    if not s.is_empty():\n",
    "        popped = s.pop()\n",
    "        reverse_stack(s)\n",
    "        insert_at_bottom(s, popped)\n",
    " \n",
    " \n",
    "s = Stack()\n",
    "data_list = input('Please enter the elements to push: ').split()\n",
    "for data in data_list:\n",
    "    s.push(int(data))\n",
    " \n",
    "print('The stack:')\n",
    "s.display()\n",
    "reverse_stack(s)\n",
    "print('After reversing:')\n",
    "s.display()"
   ]
  },
  {
   "cell_type": "markdown",
   "id": "c6aa21e1",
   "metadata": {},
   "source": [
    "### Q10. Write a program to find the smallest number using a stack."
   ]
  },
  {
   "cell_type": "code",
   "execution_count": 39,
   "id": "b150f75d",
   "metadata": {},
   "outputs": [],
   "source": [
    "class Smallest_No(object):\n",
    "   min=float('inf')\n",
    "   def __init__(self):\n",
    "      self.min=float('inf')\n",
    "      self.stack = []\n",
    "   def push(self, x):\n",
    "      if x<=self.min:\n",
    "         self.stack.append(self.min)\n",
    "         self.min = x\n",
    "      self.stack.append(x)\n",
    "   def pop(self):\n",
    "      t = self.stack[-1]\n",
    "      self.stack.pop()\n",
    "      if self.min == t:\n",
    "         self.min = self.stack[-1]\n",
    "         self.stack.pop()\n",
    "   def top(self):\n",
    "      return self.stack[-1]\n",
    "   def getMin(self):\n",
    "      return self.min\n"
   ]
  },
  {
   "cell_type": "code",
   "execution_count": 40,
   "id": "e40c24f6",
   "metadata": {},
   "outputs": [
    {
     "name": "stdout",
     "output_type": "stream",
     "text": [
      "3\n"
     ]
    }
   ],
   "source": [
    "m = Smallest_No()\n",
    "m.push(5)\n",
    "m.push(15)\n",
    "m.push(3)\n",
    "m.push(7)\n",
    "m.push(25)\n",
    "print(m.getMin())"
   ]
  },
  {
   "cell_type": "code",
   "execution_count": null,
   "id": "1c8911c2",
   "metadata": {},
   "outputs": [],
   "source": []
  }
 ],
 "metadata": {
  "kernelspec": {
   "display_name": "Python 3 (ipykernel)",
   "language": "python",
   "name": "python3"
  },
  "language_info": {
   "codemirror_mode": {
    "name": "ipython",
    "version": 3
   },
   "file_extension": ".py",
   "mimetype": "text/x-python",
   "name": "python",
   "nbconvert_exporter": "python",
   "pygments_lexer": "ipython3",
   "version": "3.10.5"
  }
 },
 "nbformat": 4,
 "nbformat_minor": 5
}
